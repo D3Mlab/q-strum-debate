{
 "cells": [
  {
   "cell_type": "code",
   "execution_count": 7,
   "metadata": {},
   "outputs": [],
   "source": [
    "import json\n",
    "import os"
   ]
  },
  {
   "cell_type": "markdown",
   "metadata": {},
   "source": [
    "Explanation of Paths\n",
    "\n",
    "- `dataset_path`: This is the path to the original dataset.\n",
    "- `inter_source_path`: This is the path to the experiment results output that we will use to extract intermediate results. This is the \"results.json\" file in the experiment directory.\n",
    "\n"
   ]
  },
  {
   "cell_type": "code",
   "execution_count": 8,
   "metadata": {},
   "outputs": [],
   "source": [
    "dataset_path = \"\"\n",
    "inter_source_path = \"\"\n",
    "\n",
    "with open(dataset_path, \"r\") as f:\n",
    "    dataset = json.load(f)\n",
    "\n",
    "with open(inter_source_path, \"r\") as f:\n",
    "    inter_source = json.load(f)"
   ]
  },
  {
   "cell_type": "markdown",
   "metadata": {},
   "source": [
    "This cell will save a new dataset in the same experiment directory with the name \n",
    "`{dataset_name}_inter.json`, indicating that it contains the intermediate \n",
    "results for that dataset.\n",
    "\n"
   ]
  },
  {
   "cell_type": "code",
   "execution_count": 9,
   "metadata": {},
   "outputs": [],
   "source": [
    "for i in range(len(inter_source)):\n",
    "    assert dataset[i][\"dest_1\"] == inter_source[i][\"dest1\"]\n",
    "    assert dataset[i][\"dest_2\"] == inter_source[i][\"dest2\"]\n",
    "    assert dataset[i][\"sentences_1\"] == inter_source[i][\"sentences1\"]\n",
    "    assert dataset[i][\"sentences_2\"] == inter_source[i][\"sentences2\"]\n",
    "    assert dataset[i][\"query\"] == inter_source[i][\"query\"]\n",
    "\n",
    "    dataset[i][\"intermediate_results\"] = inter_source[i][\"intermediate\"]\n",
    "\n",
    "dataset_name = dataset_path.split(\"/\")[-1].split(\".\")[0]\n",
    "folder_path = os.path.dirname(inter_source_path)\n",
    "with open(f\"{folder_path}/{dataset_name}_inter.json\", \"w\") as f:\n",
    "    json.dump(dataset, f, indent=4)"
   ]
  },
  {
   "cell_type": "markdown",
   "metadata": {},
   "source": [
    "This cell will save a cleaner, readable version of the experimental results in the same experiment directory with the name `{dataset_name}_readable.json`."
   ]
  },
  {
   "cell_type": "code",
   "execution_count": 10,
   "metadata": {},
   "outputs": [],
   "source": [
    "for i in range(len(inter_source)):\n",
    "    assert dataset[i][\"dest_1\"] == inter_source[i][\"dest1\"]\n",
    "    assert dataset[i][\"dest_2\"] == inter_source[i][\"dest2\"]\n",
    "\n",
    "    del dataset[i][\"sentences_1\"] \n",
    "    del dataset[i][\"sentences_2\"]\n",
    "    del dataset[i][\"intermediate_results\"]\n",
    "\n",
    "    dataset[i][\"output\"] = inter_source[i][\"output\"]\n",
    "    if \"output_justification\" in inter_source[i]:\n",
    "        dataset[i][\"output_justification\"] = inter_source[i][\"output_justification\"]\n",
    "\n",
    "with open(inter_source_path[:-5] + \"_readable.json\", \"w\") as f:\n",
    "    json.dump(dataset, f, indent=4)"
   ]
  }
 ],
 "metadata": {
  "kernelspec": {
   "display_name": "test",
   "language": "python",
   "name": "python3"
  },
  "language_info": {
   "codemirror_mode": {
    "name": "ipython",
    "version": 3
   },
   "file_extension": ".py",
   "mimetype": "text/x-python",
   "name": "python",
   "nbconvert_exporter": "python",
   "pygments_lexer": "ipython3",
   "version": "3.11.5"
  }
 },
 "nbformat": 4,
 "nbformat_minor": 2
}
